{
 "cells": [
  {
   "cell_type": "markdown",
   "metadata": {},
   "source": [
    "<h1>Patterns Book 1</h1>"
   ]
  },
  {
   "cell_type": "markdown",
   "metadata": {},
   "source": [
    "<h2>Sum Pattern</h2>\n",
    "<p>Find the sum of a collection of items</p>"
   ]
  },
  {
   "cell_type": "code",
   "execution_count": 1,
   "metadata": {},
   "outputs": [
    {
     "name": "stdout",
     "output_type": "stream",
     "text": [
      "The sum of the marks is 233\n"
     ]
    }
   ],
   "source": [
    "marks = [12, 98, 78, 45]\n",
    "sum1 = 0\n",
    "for mark in marks:\n",
    "    sum1 += mark\n",
    "print(f\"The sum of the marks is {sum1}\")"
   ]
  },
  {
   "cell_type": "markdown",
   "metadata": {},
   "source": [
    "<h2>Output Pattern</h2>\n",
    "<p>Show a value to the user</p>"
   ]
  },
  {
   "cell_type": "code",
   "execution_count": 2,
   "metadata": {},
   "outputs": [
    {
     "name": "stdout",
     "output_type": "stream",
     "text": [
      "User's age is  23\n"
     ]
    }
   ],
   "source": [
    "age = 23\n",
    "print(\"User's age is \", age)"
   ]
  },
  {
   "cell_type": "markdown",
   "metadata": {},
   "source": [
    "<h2>Read Pattern</h2>\n",
    "<p>Read a value from the user</p>"
   ]
  },
  {
   "cell_type": "code",
   "execution_count": 3,
   "metadata": {},
   "outputs": [
    {
     "name": "stdout",
     "output_type": "stream",
     "text": [
      "User's age is  34\n"
     ]
    }
   ],
   "source": [
    "age = int(input('Age:'))\n",
    "\n",
    "#output pattern used\n",
    "print(\"User's age is \", age)"
   ]
  },
  {
   "cell_type": "markdown",
   "metadata": {},
   "source": [
    "<h2>Read Loop Pattern</h2>\n",
    "<p>Read values until the user enters an \"end of input\" value</p>"
   ]
  },
  {
   "cell_type": "code",
   "execution_count": 5,
   "metadata": {},
   "outputs": [
    {
     "name": "stdout",
     "output_type": "stream",
     "text": [
      "Mark entered:  24\n",
      "Mark entered:  45\n"
     ]
    }
   ],
   "source": [
    "#Read pattern used\n",
    "mark = int(input('Mark: '))\n",
    "while mark != -1:\n",
    "    print(\"Mark entered: \", mark)\n",
    "    mark = int(input('Mark: '))"
   ]
  },
  {
   "cell_type": "markdown",
   "metadata": {},
   "source": [
    "<h2>Array Loop Pattern</h2>\n",
    "<p>Loop over items in an array</p>"
   ]
  },
  {
   "cell_type": "code",
   "execution_count": 6,
   "metadata": {},
   "outputs": [
    {
     "name": "stdout",
     "output_type": "stream",
     "text": [
      "Mark at index is  24\n",
      "Mark at index is  67\n",
      "Mark at index is  89\n",
      "Mark at index is  54\n",
      "Mark at index is  99\n"
     ]
    }
   ],
   "source": [
    "marks = [24, 67, 89, 54, 99]\n",
    "for i in range(0, len(marks)):\n",
    "    print(\"Mark at index is \", marks[i])"
   ]
  },
  {
   "cell_type": "markdown",
   "metadata": {},
   "source": [
    "<h2>Count Pattern</h2>\n",
    "<h3>Variation 1 (Without guard)</h3>\n",
    "<p>Count the number of items in a collection</p>"
   ]
  },
  {
   "cell_type": "code",
   "execution_count": 7,
   "metadata": {},
   "outputs": [
    {
     "name": "stdout",
     "output_type": "stream",
     "text": [
      "Number of marks in the system:  5\n"
     ]
    }
   ],
   "source": [
    "marks = [24, 67, 89, 54, 99]\n",
    "count = 0\n",
    "for mark in marks:\n",
    "    count = count + 1\n",
    "print(\"Number of marks in the system: \", count)"
   ]
  },
  {
   "cell_type": "markdown",
   "metadata": {},
   "source": [
    "<h2>Count Pattern</h2>\n",
    "<h3>Variation 2 (With guard)</h3>\n",
    "<p>Count the number of items that satisfy a condition</p>"
   ]
  },
  {
   "cell_type": "code",
   "execution_count": 8,
   "metadata": {},
   "outputs": [
    {
     "name": "stdout",
     "output_type": "stream",
     "text": [
      "Number of passin students:  4\n"
     ]
    }
   ],
   "source": [
    "marks = [24, 67, 89, 54, 99]\n",
    "count = 0\n",
    "for mark in marks:\n",
    "    if mark >= 50:\n",
    "        count = count + 1\n",
    "print(\"Number of passing students: \", count)"
   ]
  },
  {
   "cell_type": "markdown",
   "metadata": {},
   "source": [
    "<h2>Max Pattern</h2>\n",
    "<p>Goal: Find the maximum value in a collection of items</p>"
   ]
  },
  {
   "cell_type": "code",
   "execution_count": 9,
   "metadata": {},
   "outputs": [
    {
     "name": "stdout",
     "output_type": "stream",
     "text": [
      "Highest mark:  99\n"
     ]
    }
   ],
   "source": [
    "#Be careful, notice that this would only work for a collection of positive numbers\n",
    "\n",
    "marks = [24, 67, 89, 54, 99]\n",
    "max1 = 0\n",
    "for i in marks:\n",
    "    if i > max1:\n",
    "        max1 = i\n",
    "print(\"Highest mark: \", max1)"
   ]
  },
  {
   "cell_type": "markdown",
   "metadata": {},
   "source": [
    "<h2>Min Pattern</h2>\n",
    "<p>Calculate the sum of all numerical values in a collection</p>"
   ]
  },
  {
   "cell_type": "code",
   "execution_count": 1,
   "metadata": {},
   "outputs": [
    {
     "name": "stdout",
     "output_type": "stream",
     "text": [
      "Lowest mark:  24\n"
     ]
    }
   ],
   "source": [
    "marks = [24, 67, 89, 54, 99]\n",
    "min1 = float(\"inf\")\n",
    "for i in marks:\n",
    "    if i < min1:\n",
    "        min1 = i\n",
    "print(\"Lowest mark: \", min1)"
   ]
  }
 ],
 "metadata": {
  "kernelspec": {
   "display_name": "Python 3",
   "language": "python",
   "name": "python3"
  },
  "language_info": {
   "codemirror_mode": {
    "name": "ipython",
    "version": 3
   },
   "file_extension": ".py",
   "mimetype": "text/x-python",
   "name": "python",
   "nbconvert_exporter": "python",
   "pygments_lexer": "ipython3",
   "version": "3.11.9"
  }
 },
 "nbformat": 4,
 "nbformat_minor": 2
}

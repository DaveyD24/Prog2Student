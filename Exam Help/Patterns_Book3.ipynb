{
 "cells": [
  {
   "cell_type": "markdown",
   "metadata": {},
   "source": [
    "<h1>Patterns Book 3</h1>"
   ]
  },
  {
   "cell_type": "markdown",
   "metadata": {},
   "source": [
    "<h2>String loop Pattern</h2>\n",
    "<p><span style=\"color: green\">Goal:</span> Loop over the characters in a string</p>"
   ]
  },
  {
   "cell_type": "code",
   "execution_count": 1,
   "metadata": {},
   "outputs": [
    {
     "name": "stdout",
     "output_type": "stream",
     "text": [
      "Number of D's  1\n"
     ]
    }
   ],
   "source": [
    "name = \"David Dyer\"\n",
    "dCount = 0\n",
    "for i in name:\n",
    "    if i == 'd':\n",
    "        dCount = dCount + 1\n",
    "print(\"Number of D's \", dCount)"
   ]
  },
  {
   "cell_type": "markdown",
   "metadata": {},
   "source": [
    "<h2>For-each Loop Pattern</h2>\n",
    "<p>Loop over a collection of items without index</p>"
   ]
  },
  {
   "cell_type": "code",
   "execution_count": 2,
   "metadata": {},
   "outputs": [
    {
     "name": "stdout",
     "output_type": "stream",
     "text": [
      "car\n",
      "truck\n",
      "bus\n",
      "van\n"
     ]
    }
   ],
   "source": [
    "vehicles = ['car', 'truck', 'bus', 'van']\n",
    "for vehicle in vehicles:\n",
    "    print(vehicle)"
   ]
  },
  {
   "cell_type": "markdown",
   "metadata": {},
   "source": [
    "<h2>Merged Read Loop Pattern</h2>\n",
    "<p>Read values until the user enters an \"end of input\" value</p>"
   ]
  },
  {
   "cell_type": "code",
   "execution_count": 4,
   "metadata": {},
   "outputs": [
    {
     "name": "stdout",
     "output_type": "stream",
     "text": [
      "['david', 'jenny']\n"
     ]
    }
   ],
   "source": [
    "names = []\n",
    "while (value:= input(\"Enter a name: \")) != \"x\":\n",
    "    names.append(value)\n",
    "print(names)"
   ]
  },
  {
   "cell_type": "markdown",
   "metadata": {},
   "source": [
    "<h2>Any Pattern</h2>\n",
    "<p>Determine if any item in a collection passes</p>"
   ]
  },
  {
   "cell_type": "code",
   "execution_count": 7,
   "metadata": {},
   "outputs": [
    {
     "name": "stdout",
     "output_type": "stream",
     "text": [
      "False\n"
     ]
    }
   ],
   "source": [
    "marks = [56, 78, 49, 89, 92]\n",
    "def anyFailingStudents():\n",
    "    for mark in marks:\n",
    "        if mark < 50:\n",
    "            return True\n",
    "    return False\n",
    "\n",
    "print(anyFailingStudents())\n"
   ]
  },
  {
   "cell_type": "markdown",
   "metadata": {},
   "source": [
    "<h2>Every Pattern</h2>\n",
    "<p>Determine if all items in a collection pass</p>"
   ]
  },
  {
   "cell_type": "code",
   "execution_count": 8,
   "metadata": {},
   "outputs": [
    {
     "name": "stdout",
     "output_type": "stream",
     "text": [
      "False\n"
     ]
    }
   ],
   "source": [
    "marks = [56, 78, 49, 89, 92]\n",
    "def allStudentsPassing():\n",
    "    for mark in marks:\n",
    "        if mark < 50:\n",
    "            return False\n",
    "    return True\n",
    "\n",
    "print(allStudentsPassing())"
   ]
  },
  {
   "cell_type": "markdown",
   "metadata": {},
   "source": [
    "<h2>None Pattern</h2>\n",
    "<p>Determine if no items in a collection pass</p>"
   ]
  },
  {
   "cell_type": "code",
   "execution_count": 9,
   "metadata": {},
   "outputs": [
    {
     "name": "stdout",
     "output_type": "stream",
     "text": [
      "False\n"
     ]
    }
   ],
   "source": [
    "marks = [56, 78, 49, 89, 92]\n",
    "def ensureNoPasses():\n",
    "    for mark in marks:\n",
    "        if mark > 50:\n",
    "            return False\n",
    "    return True\n",
    "\n",
    "print(ensureNoPasses())"
   ]
  }
 ],
 "metadata": {
  "kernelspec": {
   "display_name": "Python 3",
   "language": "python",
   "name": "python3"
  },
  "language_info": {
   "codemirror_mode": {
    "name": "ipython",
    "version": 3
   },
   "file_extension": ".py",
   "mimetype": "text/x-python",
   "name": "python",
   "nbconvert_exporter": "python",
   "pygments_lexer": "ipython3",
   "version": "3.11.9"
  }
 },
 "nbformat": 4,
 "nbformat_minor": 2
}

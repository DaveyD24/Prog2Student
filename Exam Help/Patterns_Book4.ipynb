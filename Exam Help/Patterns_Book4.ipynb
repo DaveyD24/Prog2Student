{
 "cells": [
  {
   "cell_type": "markdown",
   "metadata": {},
   "source": [
    "<h1>Patterns Book 4</h1>"
   ]
  },
  {
   "cell_type": "markdown",
   "metadata": {},
   "source": [
    "<h2>Class format</h2>"
   ]
  },
  {
   "cell_type": "raw",
   "metadata": {
    "vscode": {
     "languageId": "raw"
    }
   },
   "source": [
    "<import statements>\n",
    "class <class name>:\n",
    "    <fields>\n",
    "    <init>\n",
    "    <methods>\n",
    "    <getters/setters>"
   ]
  },
  {
   "cell_type": "markdown",
   "metadata": {},
   "source": [
    "<p>Example</p>"
   ]
  },
  {
   "cell_type": "code",
   "execution_count": 1,
   "metadata": {},
   "outputs": [],
   "source": [
    "import sys\n",
    "import random\n",
    "\n",
    "class Account:\n",
    "    LATE_FEE = 10\n",
    "    def __init__(self):\n",
    "        self.type = \"\"\n",
    "        self.balance = 0\n",
    "       \n",
    "    def get_name(self):\n",
    "        return self.name\n",
    "    \n",
    "    def get_type(self):\n",
    "        return self.type\n",
    "    \n",
    "    def get_balance(self):\n",
    "        return self.balance\n",
    "    \n",
    "    def set_account_type(self, name):\n",
    "        self.name = name\n",
    "    \n",
    "    def deposit(self, amount):\n",
    "        self.balance += amount\n",
    "    \n",
    "    def withdraw(self, amount):\n",
    "        self.balance -= amount\n",
    "    "
   ]
  },
  {
   "cell_type": "markdown",
   "metadata": {},
   "source": [
    "<h2>Constructors</h2>\n",
    "<p>Goal: Initialise a new object</p>"
   ]
  },
  {
   "cell_type": "markdown",
   "metadata": {},
   "source": [
    "<h3>Constuctor with read pattern</h3>"
   ]
  },
  {
   "cell_type": "code",
   "execution_count": null,
   "metadata": {},
   "outputs": [],
   "source": [
    "class Account:\n",
    "    def __init__(self):\n",
    "        self.name = self.read_name()\n",
    "        self.type = self.read_type()\n",
    "        self.balance = self.read_balance()\n",
    "    \n",
    "    def read_name(self):\n",
    "        name = input(\"Name: \")\n",
    "        return name\n",
    "    \n",
    "    def read_type(self):\n",
    "        type = input(\"Account type: \")\n",
    "        return type\n",
    "    \n",
    "    def read_balance(self):\n",
    "        balance = int(input(\"Initial Balance: \"))\n",
    "        return balance"
   ]
  },
  {
   "cell_type": "code",
   "execution_count": null,
   "metadata": {},
   "outputs": [],
   "source": [
    "#Simplified Approach\n",
    "class Account:\n",
    "    def __init__(self):\n",
    "        self.name = input(\"Name: \")\n",
    "        self.type = input(\"Account type: \")\n",
    "        self.balance = int(input(\"Initial Balance: \"))"
   ]
  },
  {
   "cell_type": "markdown",
   "metadata": {},
   "source": [
    "<h3>Constuctor with parameters</h3>"
   ]
  },
  {
   "cell_type": "code",
   "execution_count": null,
   "metadata": {},
   "outputs": [],
   "source": [
    "class Account:\n",
    "    def __init__(self, name, type, balance):\n",
    "        self.name = name\n",
    "        self.type = type\n",
    "        self.balance = balance"
   ]
  },
  {
   "cell_type": "markdown",
   "metadata": {},
   "source": [
    "<h3>Constuctor with literals</h3>"
   ]
  },
  {
   "cell_type": "code",
   "execution_count": null,
   "metadata": {},
   "outputs": [],
   "source": [
    "class Account:\n",
    "    def __init__(self):\n",
    "        self.name = \"Default name\"\n",
    "        self.type = \"Savings\"\n",
    "        self.balance = 0.0"
   ]
  },
  {
   "cell_type": "markdown",
   "metadata": {},
   "source": [
    "<h2>To String method</h2>\n",
    "<p>Goal: Return a human-readable representation of the object</p>"
   ]
  },
  {
   "cell_type": "code",
   "execution_count": 2,
   "metadata": {},
   "outputs": [
    {
     "name": "stdout",
     "output_type": "stream",
     "text": [
      "David's Savings Account has $500\n"
     ]
    }
   ],
   "source": [
    "class Account:\n",
    "    def __init__(self, name, type, balance):\n",
    "        self.name = name\n",
    "        self.type = type\n",
    "        self.balance = balance\n",
    "    \n",
    "    def __str__(self):\n",
    "        return f\"{self.name}'s {self.type} Account has ${self.balance}\"\n",
    "\n",
    "account = Account(\"David\", \"Savings\", 500)\n",
    "print(account)"
   ]
  },
  {
   "cell_type": "markdown",
   "metadata": {},
   "source": [
    "<h2>Format to decimal places Pattern</h2>\n",
    "<p>Show to two decimal places</p>"
   ]
  },
  {
   "cell_type": "code",
   "execution_count": 5,
   "metadata": {},
   "outputs": [
    {
     "name": "stdout",
     "output_type": "stream",
     "text": [
      "$548.47\n"
     ]
    }
   ],
   "source": [
    "account_balance = 548.465\n",
    "print(f\"${account_balance:.2f}\")"
   ]
  },
  {
   "cell_type": "markdown",
   "metadata": {},
   "source": [
    "<h2>Getter and Setter Methods</h2>\n",
    "<p>Goal: Retrieve and/or set fields of an object</p>"
   ]
  },
  {
   "cell_type": "code",
   "execution_count": 7,
   "metadata": {},
   "outputs": [
    {
     "name": "stdout",
     "output_type": "stream",
     "text": [
      "David\n",
      "David Dyer\n"
     ]
    }
   ],
   "source": [
    "class Account:\n",
    "    def __init__(self, name):\n",
    "        self.name = name\n",
    "    \n",
    "    def get_name(self):\n",
    "        return self.name\n",
    "    \n",
    "    def set_name(self, name):\n",
    "        self.name = name\n",
    "\n",
    "account = Account(\"David\")\n",
    "print(account.get_name())\n",
    "account.set_name(\"David Dyer\")\n",
    "print(account.get_name())"
   ]
  },
  {
   "cell_type": "markdown",
   "metadata": {},
   "source": [
    "<h2>Menu Pattern</h2>\n",
    "<p>Read a choice from the user and call an appropriate procedure until the user exits</p>"
   ]
  },
  {
   "cell_type": "code",
   "execution_count": 12,
   "metadata": {},
   "outputs": [
    {
     "name": "stdout",
     "output_type": "stream",
     "text": [
      "You can only deposit or withdraw!\n",
      "You can only deposit or withdraw!\n",
      "Withdrawing...\n",
      "Depositing...\n",
      "You can only deposit or withdraw!\n",
      "Done.\n"
     ]
    }
   ],
   "source": [
    "def deposit():\n",
    "    print(\"Depositing...\")\n",
    "\n",
    "def withdraw():\n",
    "    print(\"Withdrawing...\")\n",
    "\n",
    "def help():\n",
    "    print(\"You can only deposit or withdraw!\")\n",
    "\n",
    "while (choice := input(\"Choice: \")) != 'x':\n",
    "    if choice == 'd':\n",
    "        deposit()\n",
    "    elif choice == 'w':\n",
    "        withdraw()\n",
    "    else:\n",
    "        help()\n",
    "print(\"Done.\")\n"
   ]
  }
 ],
 "metadata": {
  "kernelspec": {
   "display_name": "Python 3",
   "language": "python",
   "name": "python3"
  },
  "language_info": {
   "codemirror_mode": {
    "name": "ipython",
    "version": 3
   },
   "file_extension": ".py",
   "mimetype": "text/x-python",
   "name": "python",
   "nbconvert_exporter": "python",
   "pygments_lexer": "ipython3",
   "version": "3.11.9"
  }
 },
 "nbformat": 4,
 "nbformat_minor": 2
}

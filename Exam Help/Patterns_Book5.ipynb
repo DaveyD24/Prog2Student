{
 "cells": [
  {
   "cell_type": "markdown",
   "metadata": {},
   "source": [
    "<h2>Looping list Pattern</h2>\n",
    "<p>Goal: Loop over every item in a list</p>"
   ]
  },
  {
   "cell_type": "code",
   "execution_count": 1,
   "metadata": {},
   "outputs": [
    {
     "name": "stdout",
     "output_type": "stream",
     "text": [
      "Titans\n",
      "Broncos\n",
      "Roosters\n",
      "Storm\n",
      "Titans\n",
      "Broncos\n",
      "Roosters\n",
      "Storm\n"
     ]
    }
   ],
   "source": [
    "teams = [\"Titans\", \"Broncos\", \"Roosters\", \"Storm\"]\n",
    "\n",
    "#when index is NOT required\n",
    "for team in teams:\n",
    "    print(team)\n",
    "\n",
    "#when index i required\n",
    "for i in range(len(teams)):\n",
    "    print(teams[i])"
   ]
  },
  {
   "cell_type": "markdown",
   "metadata": {},
   "source": [
    "<h2>Copying list Pattern</h2>\n",
    "<p>Goal: Duplicate all elements of a list into a new list variable</p>"
   ]
  },
  {
   "cell_type": "markdown",
   "metadata": {},
   "source": [
    "<h3>Variation 1: Shallow Copy</h3>"
   ]
  },
  {
   "cell_type": "code",
   "execution_count": 2,
   "metadata": {},
   "outputs": [
    {
     "name": "stdout",
     "output_type": "stream",
     "text": [
      "['Titans', 'Broncos', 'Roosters', 'Storm']\n",
      "['Titans', 'Broncos', 'Roosters', 'Storm', 'Sharks']\n"
     ]
    }
   ],
   "source": [
    "teams = [\"Titans\", \"Broncos\", \"Roosters\", \"Storm\"]\n",
    "copy = teams.copy()\n",
    "\n",
    "copy.append(\"Sharks\")\n",
    "print(teams)\n",
    "print(copy)"
   ]
  },
  {
   "cell_type": "markdown",
   "metadata": {},
   "source": [
    "<h3>Variation 2: Slicing</h3>"
   ]
  },
  {
   "cell_type": "code",
   "execution_count": 3,
   "metadata": {},
   "outputs": [
    {
     "name": "stdout",
     "output_type": "stream",
     "text": [
      "['Titans', 'Broncos', 'Roosters', 'Storm']\n",
      "['Titans', 'Broncos', 'Roosters', 'Storm', 'Sharks']\n"
     ]
    }
   ],
   "source": [
    "teams = [\"Titans\", \"Broncos\", \"Roosters\", \"Storm\"]\n",
    "copy = teams[:]\n",
    "\n",
    "copy.append(\"Sharks\")\n",
    "print(teams)\n",
    "print(copy)"
   ]
  },
  {
   "cell_type": "markdown",
   "metadata": {},
   "source": [
    "<h2>Lookup Pattern</h2>\n",
    "<p>Goal: Find and return an element in a list. Return null if not found</p>"
   ]
  },
  {
   "cell_type": "code",
   "execution_count": 9,
   "metadata": {},
   "outputs": [
    {
     "name": "stdout",
     "output_type": "stream",
     "text": [
      "Jenny's Loan Account has $400\n",
      "None\n"
     ]
    }
   ],
   "source": [
    "class Account:\n",
    "    def __init__(self, name, type, balance):\n",
    "        self.name = name\n",
    "        self.type = type\n",
    "        self.balance = balance\n",
    "        \n",
    "    def __str__(self):\n",
    "        return f\"{self.name}'s {self.type} Account has ${self.balance}\"\n",
    "\n",
    "\n",
    "accounts = [Account(\"David\", \"Savings\", 500), Account(\"Jenny\", \"Loan\", 400), Account(\"Daisy\", \"Savings\", 300)]\n",
    "\n",
    "#note that the lookup pattern assumes some unique identifier in the object\n",
    "def account(name) :\n",
    "    for account in accounts:\n",
    "        if account.name == name:\n",
    "            return account\n",
    "    return None\n",
    "\n",
    "print(account(\"Jenny\"))\n",
    "print(account(\"Jack\"))"
   ]
  },
  {
   "cell_type": "markdown",
   "metadata": {},
   "source": [
    "<h2>Match Function</h2>\n",
    "<p>Goal: Export the unique identifier from the supplier</p>"
   ]
  },
  {
   "cell_type": "code",
   "execution_count": null,
   "metadata": {},
   "outputs": [],
   "source": [
    "class Account:\n",
    "    def __init__(self, name, type, balance):\n",
    "        self.name = name\n",
    "        self.type = type\n",
    "        self.balance = balance\n",
    "    \n",
    "    #match function\n",
    "    def has_type(self, type):\n",
    "        return self.type == type"
   ]
  },
  {
   "cell_type": "markdown",
   "metadata": {},
   "source": [
    "<h2>Find All Matches Function</h2>\n",
    "<p>Goal: Find all elements in a list that match some condition</p>"
   ]
  },
  {
   "cell_type": "markdown",
   "metadata": {},
   "source": [
    "<h3>Variation 1: Normal</h3>"
   ]
  },
  {
   "cell_type": "code",
   "execution_count": 10,
   "metadata": {},
   "outputs": [
    {
     "name": "stdout",
     "output_type": "stream",
     "text": [
      "['Titans', 'Roosters', 'Storm']\n"
     ]
    }
   ],
   "source": [
    "teams = [\"Titans\", \"Broncos\", \"Roosters\", \"Storm\"]\n",
    "\n",
    "def tWords(words):\n",
    "    matches = []\n",
    "    for word in words:\n",
    "        if 't' in word:\n",
    "            matches.append(word)\n",
    "    return matches\n",
    "\n",
    "print(tWords(teams))"
   ]
  },
  {
   "cell_type": "markdown",
   "metadata": {},
   "source": [
    "<h3>Variation 2: List Comprehension</h3>"
   ]
  },
  {
   "cell_type": "code",
   "execution_count": 11,
   "metadata": {},
   "outputs": [
    {
     "name": "stdout",
     "output_type": "stream",
     "text": [
      "['Titans', 'Roosters', 'Storm']\n"
     ]
    }
   ],
   "source": [
    "teams = [\"Titans\", \"Broncos\", \"Roosters\", \"Storm\"]\n",
    "\n",
    "def tWords(words):\n",
    "    return [word for word in words if 't' in word]\n",
    "\n",
    "print(tWords(teams))"
   ]
  },
  {
   "cell_type": "markdown",
   "metadata": {},
   "source": [
    "<h2>Remove All Matches Function</h2>\n",
    "<p>Goal: Remove every element from a collection that matches some condition</p>"
   ]
  },
  {
   "cell_type": "markdown",
   "metadata": {},
   "source": [
    "<h3>Variation 1: Return new list with matches removed</h3>"
   ]
  },
  {
   "cell_type": "code",
   "execution_count": 13,
   "metadata": {},
   "outputs": [
    {
     "name": "stdout",
     "output_type": "stream",
     "text": [
      "['Titans', 'Broncos', 'Roosters', 'Storm']\n",
      "['Broncos']\n",
      "['Titans', 'Broncos', 'Roosters', 'Storm']\n"
     ]
    }
   ],
   "source": [
    "teams = [\"Titans\", \"Broncos\", \"Roosters\", \"Storm\"]\n",
    "\n",
    "def tWords(words):\n",
    "    return [word for word in words if 't' in word]\n",
    "\n",
    "def remove_tWords(words):\n",
    "    t_words = tWords(words)\n",
    "    return [word for word in words if word not in t_words]\n",
    "\n",
    "print(teams)\n",
    "print(remove_tWords(teams))\n",
    "print(teams)"
   ]
  },
  {
   "cell_type": "markdown",
   "metadata": {},
   "source": [
    "<h3>Variation 2: Make a list of matches, then remove them all from original list</h3>"
   ]
  },
  {
   "cell_type": "code",
   "execution_count": 17,
   "metadata": {},
   "outputs": [
    {
     "name": "stdout",
     "output_type": "stream",
     "text": [
      "['Titans', 'Broncos', 'Roosters', 'Storm']\n",
      "['Broncos']\n"
     ]
    }
   ],
   "source": [
    "teams = [\"Titans\", \"Broncos\", \"Roosters\", \"Storm\"]\n",
    "\n",
    "def tWords(words):\n",
    "    return [word for word in words if 't' in word]\n",
    "\n",
    "def remove_tWords(words):\n",
    "    t_words = tWords(words)\n",
    "    for word in t_words:\n",
    "        if word in words:\n",
    "            words.remove(word)\n",
    "    \n",
    "\n",
    "print(teams)\n",
    "remove_tWords(teams)\n",
    "print(teams)"
   ]
  },
  {
   "cell_type": "markdown",
   "metadata": {},
   "source": [
    "<h2>Remove One Match Function</h2>\n",
    "<p>Goal: Remove the first occurence of an element in a list that matches some condition</p>"
   ]
  },
  {
   "cell_type": "markdown",
   "metadata": {},
   "source": [
    "<h3>Variation 1: Stop looping fter removing first occurence</h3>"
   ]
  },
  {
   "cell_type": "code",
   "execution_count": 19,
   "metadata": {},
   "outputs": [
    {
     "name": "stdout",
     "output_type": "stream",
     "text": [
      "['Titans', 'Broncos', 'Roosters', 'Storm']\n",
      "['Broncos', 'Roosters', 'Storm']\n"
     ]
    }
   ],
   "source": [
    "teams = [\"Titans\", \"Broncos\", \"Roosters\", \"Storm\"]\n",
    "\n",
    "def remove_first_tWord(words):\n",
    "    for word in words:\n",
    "        if 't' in word:\n",
    "            words.remove(word)\n",
    "            break\n",
    "\n",
    "print(teams)\n",
    "remove_first_tWord(teams)\n",
    "print(teams)"
   ]
  },
  {
   "cell_type": "markdown",
   "metadata": {},
   "source": [
    "<h3>Variation 2: Use an iterator</h3>"
   ]
  },
  {
   "cell_type": "code",
   "execution_count": 21,
   "metadata": {},
   "outputs": [
    {
     "name": "stdout",
     "output_type": "stream",
     "text": [
      "['Titans', 'Broncos', 'Roosters', 'Storm']\n",
      "['Broncos', 'Roosters', 'Storm']\n"
     ]
    }
   ],
   "source": [
    "teams = [\"Titans\", \"Broncos\", \"Roosters\", \"Storm\"]\n",
    "\n",
    "def remove_first_tWord(words):\n",
    "    for i, word in enumerate(words):\n",
    "        if 't' in word:\n",
    "            words.pop(i)\n",
    "            break\n",
    "\n",
    "print(teams)\n",
    "remove_first_tWord(teams)\n",
    "print(teams)"
   ]
  }
 ],
 "metadata": {
  "kernelspec": {
   "display_name": "Python 3",
   "language": "python",
   "name": "python3"
  },
  "language_info": {
   "codemirror_mode": {
    "name": "ipython",
    "version": 3
   },
   "file_extension": ".py",
   "mimetype": "text/x-python",
   "name": "python",
   "nbconvert_exporter": "python",
   "pygments_lexer": "ipython3",
   "version": "3.11.9"
  }
 },
 "nbformat": 4,
 "nbformat_minor": 2
}
